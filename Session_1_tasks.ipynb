{
  "nbformat": 4,
  "nbformat_minor": 0,
  "metadata": {
    "colab": {
      "provenance": [],
      "include_colab_link": true
    },
    "kernelspec": {
      "name": "python3",
      "display_name": "Python 3"
    },
    "language_info": {
      "name": "python"
    }
  },
  "cells": [
    {
      "cell_type": "markdown",
      "metadata": {
        "id": "view-in-github",
        "colab_type": "text"
      },
      "source": [
        "<a href=\"https://colab.research.google.com/github/bpandey369/CampusX_Cource/blob/main/Session_1_tasks.ipynb\" target=\"_parent\"><img src=\"https://colab.research.google.com/assets/colab-badge.svg\" alt=\"Open In Colab\"/></a>"
      ]
    },
    {
      "cell_type": "markdown",
      "source": [
        "# Task : Session 1\n",
        "Solve these questions own your own and try to test yourself what you have learned in the session.\n",
        "\n",
        "Happy Learning!"
      ],
      "metadata": {
        "id": "A05OG15VqOPF"
      }
    },
    {
      "cell_type": "markdown",
      "source": [
        "### Q1 :- Print the given strings as per stated format.\n",
        "\n",
        "**Given strings**:\n",
        "```\n",
        "\"Data\" \"Science\" \"Mentorship\" \"Program\"\n",
        "\"By\" \"CampusX\"\n",
        "```\n",
        "**Output**:\n",
        "```\n",
        "Data-Science-Mentorship-Program-started-By-CampusX\n",
        "```\n",
        "\n",
        "Concept- [Seperator and End]"
      ],
      "metadata": {
        "id": "2doIXf8bqe9_"
      }
    },
    {
      "cell_type": "code",
      "source": [
        "# Write your code here\n",
        "print(\"Data\",\"Science\",\"Mentorship\",\"Program\",sep='-',end='-started-')\n",
        "print(\"By\",\"CampusX\",sep='-')\n"
      ],
      "metadata": {
        "id": "-em6d3KErDtp",
        "outputId": "57f51b7d-108e-44db-d05f-3c6d23ce1af2",
        "colab": {
          "base_uri": "https://localhost:8080/"
        }
      },
      "execution_count": 1,
      "outputs": [
        {
          "output_type": "stream",
          "name": "stdout",
          "text": [
            "Data-Science-Mentorship-Program-started-By-CampusX\n"
          ]
        }
      ]
    },
    {
      "cell_type": "markdown",
      "source": [
        "### Q2:- Write a program that will convert celsius value to fahrenheit."
      ],
      "metadata": {
        "id": "1KUpN7ZTrC3_"
      }
    },
    {
      "cell_type": "code",
      "source": [
        "# Write your code here\n",
        "celsius = float(input('Celsius valus: '))\n",
        "fahrenheit = (celsius*(9/5)) +32\n",
        "print('The Fahrenheit value is',fahrenheit)"
      ],
      "metadata": {
        "id": "yxKYhYQiqWfj",
        "colab": {
          "base_uri": "https://localhost:8080/"
        },
        "outputId": "c251c659-8fa8-4f2e-d53d-9f3d94b89902"
      },
      "execution_count": 3,
      "outputs": [
        {
          "output_type": "stream",
          "name": "stdout",
          "text": [
            "Celsius valus: 0\n",
            "The Fahrenheit value is 32.0\n"
          ]
        }
      ]
    },
    {
      "cell_type": "markdown",
      "source": [
        "### Q3:- Take 2 numbers as input from the user.Write a program to swap the numbers without using any special python syntax."
      ],
      "metadata": {
        "id": "RLrOBBJurLB2"
      }
    },
    {
      "cell_type": "code",
      "source": [
        "# Write your code here\n",
        "num1 = int(input(\"First number: \"))\n",
        "num2 = int(input(\"Second number: \"))\n",
        "num = num1\n",
        "num1 = num2\n",
        "num2 = num\n",
        "print('The number are: ',num1, 'and', num2)"
      ],
      "metadata": {
        "id": "yPn7if0TrJ4F",
        "colab": {
          "base_uri": "https://localhost:8080/"
        },
        "outputId": "fcb7f48e-d4f6-4f8f-d684-6edd9f3c2e3f"
      },
      "execution_count": 6,
      "outputs": [
        {
          "output_type": "stream",
          "name": "stdout",
          "text": [
            "First number: 10\n",
            "Second number: 20\n",
            "The number are:  20 and 10\n"
          ]
        }
      ]
    },
    {
      "cell_type": "markdown",
      "source": [
        "### Q4:- Write a program to find the euclidean distance between two coordinates.Take both the coordinates from the user as input."
      ],
      "metadata": {
        "id": "waLCP1bjr7ML"
      }
    },
    {
      "cell_type": "code",
      "source": [
        "# Write your code here\n",
        "x1 = int(input('X1 coordinate: '))\n",
        "x2 = int(input('X2 coordinate: '))\n",
        "y1 = int(input('Y1 coordinate: '))\n",
        "y2 = int(input('Y2 coordinate: '))\n",
        "distance = ((x2-x1)**2+(y2-y1)**2)**0.5\n",
        "print('Euclidean Distance: ',distance)"
      ],
      "metadata": {
        "id": "Pl1Sv-xnrxnH",
        "colab": {
          "base_uri": "https://localhost:8080/"
        },
        "outputId": "163f60fe-bf29-4bc8-be97-7240340cb053"
      },
      "execution_count": 8,
      "outputs": [
        {
          "output_type": "stream",
          "name": "stdout",
          "text": [
            "X1 coordinate: 0\n",
            "X2 coordinate: 2\n",
            "Y1 coordinate: 0\n",
            "Y2 coordinate: 2\n",
            "Euclidean Distance:  2.8284271247461903\n"
          ]
        }
      ]
    },
    {
      "cell_type": "markdown",
      "source": [
        "### Q5:- Write a program to find the simple interest when the value of principle,rate of interest and time period is provided by the user.\n"
      ],
      "metadata": {
        "id": "VLrhg-FRsHjR"
      }
    },
    {
      "cell_type": "code",
      "source": [
        "# Write your code here\n",
        "principle = float(input('Principle Value: '))\n",
        "rate = float(input('Rate Value in %: '))\n",
        "time = float(input('Time Value in year: '))\n",
        "interest = (principle*time*rate)/100\n",
        "print('Simple Interest is: ',interest)"
      ],
      "metadata": {
        "id": "s40DlReZsTmY",
        "colab": {
          "base_uri": "https://localhost:8080/"
        },
        "outputId": "fd3bd814-5c46-4974-a644-28e439aaa457"
      },
      "execution_count": 9,
      "outputs": [
        {
          "output_type": "stream",
          "name": "stdout",
          "text": [
            "Principle Value: 10000\n",
            "Rate Value in %: 10\n",
            "Time Value in year: 1\n",
            "Simple Interest is:  1000.0\n"
          ]
        }
      ]
    },
    {
      "cell_type": "markdown",
      "source": [
        "### Q6:- Write a program that will tell the number of dogs and chicken are there when the user will provide the value of total heads and legs.\n",
        "\n",
        "For example:\n",
        "Input:\n",
        "heads -> 4\n",
        "legs -> 12\n",
        "<br>\n",
        "Output:\n",
        "dogs -> 2\n",
        "chicken -> 2\n",
        "\n",
        "\n",
        "\n"
      ],
      "metadata": {
        "id": "LMy0BTUktYKa"
      }
    },
    {
      "cell_type": "code",
      "source": [
        "# Write your code here\n",
        "leg = int(input('Number of legs: '))\n",
        "head = int(input('Number of heads: '))\n",
        "dog = int((leg +(-2*head))/2)\n",
        "chicken = int(head-dog)\n",
        "print('Number of dog and chicken is {} and {}.'.format(dog,chicken))"
      ],
      "metadata": {
        "id": "XSBvJoA4tXaG",
        "colab": {
          "base_uri": "https://localhost:8080/"
        },
        "outputId": "0e156553-b27b-4dda-e967-5cd601910f8a"
      },
      "execution_count": 18,
      "outputs": [
        {
          "output_type": "stream",
          "name": "stdout",
          "text": [
            "Number of legs: 12\n",
            "Number of heads: 4\n",
            "Number of dog and chicken is 2 and 2.\n"
          ]
        }
      ]
    },
    {
      "cell_type": "markdown",
      "source": [
        "### Q7:- Write a program to find the sum of squares of first n natural numbers where n will be provided by the user."
      ],
      "metadata": {
        "id": "gJ7C5kZYt4BP"
      }
    },
    {
      "cell_type": "code",
      "source": [
        "# Write your code here\n",
        "num = int(input('Enter a number: '))\n",
        "sum = (num*(num+1)*(2*num*1))/6\n",
        "print('Sum of squares of {} natural number is {}'.format(num,round(sum,2)))"
      ],
      "metadata": {
        "id": "_tHsmEHzt2nX",
        "colab": {
          "base_uri": "https://localhost:8080/"
        },
        "outputId": "9c7afe88-91be-42d3-b5bb-33abdd0a3281"
      },
      "execution_count": 11,
      "outputs": [
        {
          "output_type": "stream",
          "name": "stdout",
          "text": [
            "Enter a number: 10\n",
            "Sum of squares of 10 natural number is 366.67\n"
          ]
        }
      ]
    },
    {
      "cell_type": "markdown",
      "source": [
        "### Q8:- Given the first 2 terms of an Arithmetic Series.Find the Nth term of the series. Assume all inputs are provided by the user."
      ],
      "metadata": {
        "id": "FHrMM7g-yG1h"
      }
    },
    {
      "cell_type": "code",
      "source": [
        "# Write your code here\n",
        "num1 = int(input('First Number: '))\n",
        "num2 = int(input('Second Number: '))\n",
        "num = int(input('Nth term: '))\n",
        "diff = num2- num1\n",
        "series_term = num1 + (num -1)*diff\n",
        "print('{}th term of the series is {}.'.format(num,series_term))"
      ],
      "metadata": {
        "id": "go4_kmZmyVSx",
        "colab": {
          "base_uri": "https://localhost:8080/"
        },
        "outputId": "b8e756f8-3ba4-439c-b8ff-e64456dfa7a4"
      },
      "execution_count": 13,
      "outputs": [
        {
          "output_type": "stream",
          "name": "stdout",
          "text": [
            "First Number: 3\n",
            "Second Number: 10\n",
            "Nth term: 5\n",
            "5th term of the series is 31.\n"
          ]
        }
      ]
    },
    {
      "cell_type": "markdown",
      "source": [
        "### Q9:- Given 2 fractions, find the sum of those 2 fractions.Take the numerator and denominator values of the fractions from the user."
      ],
      "metadata": {
        "id": "QgyRX_es1oum"
      }
    },
    {
      "cell_type": "code",
      "source": [
        "# Write your code here\n",
        "num1 = int(input('1st number numerator: '))\n",
        "den1 = int(input('1st number denominator: '))\n",
        "num2 = int(input('2nd number numerator: '))\n",
        "den2 = int(input('2nd number denominator: '))\n",
        "sum = (num1*den2+num2*den1)/(den1+den2)\n",
        "print('Sum of two fraction values is',sum)"
      ],
      "metadata": {
        "id": "X05xqFS1yW16",
        "colab": {
          "base_uri": "https://localhost:8080/"
        },
        "outputId": "82132bd7-e9a1-43b4-bf22-28138cfbad1d"
      },
      "execution_count": 14,
      "outputs": [
        {
          "output_type": "stream",
          "name": "stdout",
          "text": [
            "1st number numerator: 1\n",
            "1st number denominator: 2\n",
            "2nd number numerator: 1\n",
            "2nd number denominator: 2\n",
            "Sum of two fraction values is 1.0\n"
          ]
        }
      ]
    },
    {
      "cell_type": "markdown",
      "source": [
        "### Q10:- Given the height, width and breadth of a milk tank, you have to find out how many glasses of milk can be obtained? Assume all the inputs are provided by the user.\n",
        "\n",
        "\n",
        "\n",
        "Input:<br>\n",
        "Dimensions of the milk tank<br>\n",
        "H = 20cm, L = 20cm, B = 20cm\n",
        "<br><br>\n",
        "Dimensions of the glass<br>\n",
        "h = 3cm, r = 1cm"
      ],
      "metadata": {
        "id": "eaql38ln13u7"
      }
    },
    {
      "cell_type": "code",
      "source": [
        "# Write your code here\n",
        "\n",
        "H = int(input('Height of tank:'))\n",
        "L = int(input('Width of tank:'))\n",
        "B = int(input('Breadth of tank:'))\n",
        "h = int(input('Height of glass:'))\n",
        "r = int(input('Radius of flass:'))\n",
        "n = int((H*L*B)/(3.14*h*r**2))\n",
        "print(n,'glass of milk can be obtain')"
      ],
      "metadata": {
        "id": "FePZqno74eWv",
        "colab": {
          "base_uri": "https://localhost:8080/"
        },
        "outputId": "1dfe4d64-e4eb-41f8-e76a-04fbdde62914"
      },
      "execution_count": 15,
      "outputs": [
        {
          "output_type": "stream",
          "name": "stdout",
          "text": [
            "Height of tank:20\n",
            "Width of tank:20\n",
            "Breadth of tank:20\n",
            "Height of glass:3\n",
            "Radius of flass:1\n",
            "849 glass of milk can be obtain\n"
          ]
        }
      ]
    }
  ]
}